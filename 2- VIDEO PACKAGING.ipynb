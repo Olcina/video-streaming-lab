{
 "cells": [
  {
   "cell_type": "markdown",
   "metadata": {},
   "source": [
    "### VIDEO PACKAGING\n",
    "\n",
    "Now that we have the videos in the desired qualities the next step is make the dash manifest, knows as Media Presentation Description schema. The estructure of this file is defined in an ISO standard that can be found here [MPD schema](http://standards.iso.org/ittf/PubliclyAvailableStandards/MPEG-DASH_schema_files/DASH-MPD.xsd).\n",
    "\n",
    "Luckily there are open source tools for doing this, you can use ffmpeg as we did in the [video encoding notebook](1 - Video Encoding.ipynb). The first aproach that I wook was with [MP4 Box](https://gpac.wp.imt.fr/mp4box/) but I needed to modify manually the XML files afterwards so I change the tool to [Shaka-Packager](https://github.com/google/shaka-packager)\n",
    "\n",
    "For that reason in this notebook we are going to package the videos created in the VIDEO ENCODING following the [recomendations](https://google.github.io/shaka-packager/html/tutorials/dash.html) from Google and using the Shaka Packager\n",
    "\n",
    "Package the qualities in the DASH specifications \n",
    "\n",
    "The command that for the mp4 encoding that we already did is the following.\n",
    "\n",
    "` packager \\\n",
    "  in=h264_baseline_360p_600.mp4,stream=audio,output=audio.mp4 \\\n",
    "  in=h264_baseline_360p_600.mp4,stream=video,output=h264_360p.mp4 \\\n",
    "  in=h264_main_480p_1000.mp4,stream=video,output=h264_480p.mp4 \\\n",
    "  in=h264_main_720p_3000.mp4,stream=video,output=h264_720p.mp4 \\\n",
    "  in=h264_high_1080p_6000.mp4,stream=video,output=h264_1080p.mp4 \\\n",
    "  --mpd_output h264.mpd`\n",
    "  \n",
    " The first thing that we see is that it use one off the video to link the audio file, when going trought the [MDN DASH ref](https://developer.mozilla.org/en-US/docs/Web/HTML/DASH_Adaptive_Streaming_for_HTML_5_Video)\n",
    " documentation they first create an extra file for the audio. Shaka packager avoid this extra step stracting the audio from one of the videos.\n",
    " \n",
    " You should modify the command for the packager to meet your requirements but the process is esay an really straighforward.\n",
    " \n",
    " "
   ]
  },
  {
   "cell_type": "code",
   "execution_count": 2,
   "metadata": {},
   "outputs": [
    {
     "name": "stdout",
     "output_type": "stream",
     "text": [
      "shaka_path =  D:\\mp4dash\\shaka_packager\\packager-win.exe\n",
      "video_folder =  D:\\mp4dash\\output_dir\n",
      "output_dir_path =  D:\\mp4dash\\video_packaged\n"
     ]
    }
   ],
   "source": [
    "## We are going to use shaka packager windows binaries and run the commands refering to the path in our local directory\n",
    "\n",
    "import os\n",
    "import sys\n",
    "import subprocess as sp\n",
    "\n",
    "shaka_path = os.path.join(os.getcwd(),'shaka_packager','packager-win.exe')\n",
    "video_folder = os.path.join(os.getcwd(),'output_dir')\n",
    "output_dir_path = os.path.join(os.getcwd(),'video_packaged')\n",
    "\n",
    "print('shaka_path = ', shaka_path)\n",
    "print('video_folder = ', video_folder)\n",
    "print('output_dir_path = ', output_dir_path)\n"
   ]
  },
  {
   "cell_type": "code",
   "execution_count": 3,
   "metadata": {},
   "outputs": [],
   "source": [
    "def packager_command(video_folder,output_dir_path, output_name,shaka_path):\n",
    "    output_complete = os.path.join(output_dir_path, output_name)\n",
    "    input_complete = os.path.join(video_folder, 'google_')\n",
    "    \n",
    "    string = shaka_path + ' in={video_name}_baseline_360p_600.mp4,stream=audio,output={output_complete}_audio.mp4' + \\\n",
    "                          ' in={video_name}_baseline_360p_600.mp4,stream=video,output={output_complete}_360p.mp4' + \\\n",
    "                          ' in={video_name}_baseline_480p_1000.mp4,stream=video,output={output_complete}_480p.mp4' + \\\n",
    "                          ' in={video_name}_baseline_720p_1500.mp4,stream=video,output={output_complete}_720p.mp4' + \\\n",
    "                          ' in={video_name}_baseline_1080p_3000.mp4,stream=video,output={output_complete}_1080p.mp4' + \\\n",
    "                          ' --mpd_output {output_complete}_manifest.mpd'\n",
    "\n",
    "    formated_string =string.format(video_name=input_complete, output_complete=output_complete)\n",
    "    return formated_string"
   ]
  },
  {
   "cell_type": "code",
   "execution_count": 4,
   "metadata": {},
   "outputs": [],
   "source": [
    "command = packager_command(video_folder,output_dir_path,'google_',shaka_path)"
   ]
  },
  {
   "cell_type": "code",
   "execution_count": 68,
   "metadata": {},
   "outputs": [
    {
     "name": "stdout",
     "output_type": "stream",
     "text": [
      "video package finished\n",
      "elapsed_time:  103.55950951576233\n"
     ]
    }
   ],
   "source": [
    "## RUN THE PACKAGE COMMAND\n",
    "import time\n",
    "# get the time\n",
    "start_time = time.time()\n",
    "# run the command\n",
    "command_output = sp.check_output(command).decode()\n",
    "#calculate the elapsed_time\n",
    "elapsed_time = time.time() - start_time\n",
    "print('video package finished')\n",
    "print('elapsed_time: ', elapsed_time)\n"
   ]
  },
  {
   "cell_type": "markdown",
   "metadata": {},
   "source": [
    "### VIDEO ANALYSIS\n",
    "\n",
    "We can  use the shaka-packager instead of ffprobe as we did before for analize the video metadata [ref](https://google.github.io/shaka-packager/html/tutorials/basic_usage.html#media-file-analysis)\n",
    "\n",
    "`packager input=some_content.mp4 --dump_stream_info `\n",
    "\n",
    "Doing the analysis for the 540p video is as simple as change the input path to the path of our video."
   ]
  },
  {
   "cell_type": "code",
   "execution_count": 9,
   "metadata": {},
   "outputs": [
    {
     "name": "stdout",
     "output_type": "stream",
     "text": [
      "D:\\mp4dash\\shaka_packager\\packager-win.exe input=D:\\mp4dash\\video_packaged\\output_name960x540.mp4 --dump_stream_info\n",
      "\n",
      "File \"D:\\mp4dash\\video_packaged\\output_name960x540.mp4\":\n",
      "Found 2 stream(s).\n",
      "Stream [0] type: Video\n",
      " codec_string: avc1.64001f\n",
      " time_scale: 12800\n",
      " duration: 67584 (5.3 seconds)\n",
      " is_encrypted: false\n",
      " codec: H264\n",
      " width: 960\n",
      " height: 540\n",
      " pixel_aspect_ratio: 1:1\n",
      " trick_play_rate: 0\n",
      " nalu_length_size: 4\n",
      "\n",
      "Stream [1] type: Audio\n",
      " codec_string: mp4a.40.2\n",
      " time_scale: 48000\n",
      " duration: 256000 (5.3 seconds)\n",
      " is_encrypted: false\n",
      " codec: AAC\n",
      " sample_bits: 16\n",
      " num_channels: 2\n",
      " sampling_frequency: 48000\n",
      " language: und\n",
      " seek_preroll_ns: 20833\n",
      "\n",
      "Packaging completed successfully.\n",
      "\n"
     ]
    }
   ],
   "source": [
    "# Define path to the video\n",
    "video_path = os.path.join(output_dir_path,'output_name960x540.mp4')\n",
    "# Definition of analysis the command\n",
    "analysis_command = '{} input={} --dump_stream_info'.format(shaka_path,video_path)\n",
    "print(analysis_command)\n",
    "# Run the command\n",
    "out =  sp.check_output(analysis_command).decode()\n",
    "print(out)"
   ]
  },
  {
   "cell_type": "markdown",
   "metadata": {},
   "source": [
    "### CONCLUSION\n",
    "\n",
    "The time that shaka-packager spend in a video of 1 hour was ~100 seconds so it seems that fit perfectly with our requeriments\n",
    "\n",
    "##### NEXT STEP\n",
    "\n",
    "1. Set up a local server to play the streamed videos."
   ]
  },
  {
   "cell_type": "code",
   "execution_count": null,
   "metadata": {},
   "outputs": [],
   "source": []
  }
 ],
 "metadata": {
  "kernelspec": {
   "display_name": "Python 3",
   "language": "python",
   "name": "python3"
  },
  "language_info": {
   "codemirror_mode": {
    "name": "ipython",
    "version": 3
   },
   "file_extension": ".py",
   "mimetype": "text/x-python",
   "name": "python",
   "nbconvert_exporter": "python",
   "pygments_lexer": "ipython3",
   "version": "3.6.3"
  }
 },
 "nbformat": 4,
 "nbformat_minor": 2
}
